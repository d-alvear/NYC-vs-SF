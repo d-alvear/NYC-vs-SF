{
 "cells": [
  {
   "cell_type": "markdown",
   "metadata": {},
   "source": [
    "# Battle of the Cities: Rent Analysis"
   ]
  },
  {
   "cell_type": "code",
   "execution_count": 2,
   "metadata": {},
   "outputs": [],
   "source": [
    "import pandas as pd\n",
    "import numpy as np\n",
    "\n",
    "import matplotlib.pyplot as plt\n",
    "%matplotlib inline\n",
    "import seaborn as sns\n",
    "sns.set\n",
    "\n",
    "import geopandas as gpd"
   ]
  },
  {
   "cell_type": "code",
   "execution_count": 10,
   "metadata": {},
   "outputs": [],
   "source": [
    "#bring in data\n",
    "nyc_data = gpd.read_file('../data/nyc-multi-merged.geojson')\n",
    "nyc_data.drop(['id'], axis=1, inplace=True)\n",
    "\n",
    "sf_data = gpd.read_file('../data/sf-multifamily-merged.geojson')\n",
    "sf_data.drop(['id'], axis=1, inplace=True)"
   ]
  },
  {
   "cell_type": "code",
   "execution_count": 11,
   "metadata": {},
   "outputs": [
    {
     "name": "stdout",
     "output_type": "stream",
     "text": [
      "Index(['Neighborhood', 'City', 'Zillow Median', 'RegionName', 'MedianRent',\n",
      "       'Average Rent', 'geometry'],\n",
      "      dtype='object')\n"
     ]
    }
   ],
   "source": [
    "nyc_data.columns\n",
    "print(sf_data.columns)"
   ]
  },
  {
   "cell_type": "markdown",
   "metadata": {},
   "source": [
    "### Checking for missing data\n",
    "Missing data may throw me an error when trying to plot the distributions"
   ]
  },
  {
   "cell_type": "code",
   "execution_count": 16,
   "metadata": {},
   "outputs": [
    {
     "data": {
      "text/plain": [
       "Name             0\n",
       "City             0\n",
       "Zillow Median    0\n",
       "MedianRent       3\n",
       "Average Rent     7\n",
       "geometry         0\n",
       "dtype: int64"
      ]
     },
     "execution_count": 16,
     "metadata": {},
     "output_type": "execute_result"
    }
   ],
   "source": [
    "nyc_data.isnull().sum()"
   ]
  },
  {
   "cell_type": "code",
   "execution_count": 18,
   "metadata": {},
   "outputs": [
    {
     "data": {
      "text/plain": [
       "Neighborhood      0\n",
       "City             48\n",
       "Zillow Median     2\n",
       "RegionName       50\n",
       "MedianRent       52\n",
       "Average Rent     39\n",
       "geometry          0\n",
       "dtype: int64"
      ]
     },
     "execution_count": 18,
     "metadata": {},
     "output_type": "execute_result"
    }
   ],
   "source": [
    "sf_data.isnull().sum()"
   ]
  },
  {
   "cell_type": "markdown",
   "metadata": {},
   "source": [
    "### Tangent: Cleaning Up SF dataframe"
   ]
  },
  {
   "cell_type": "code",
   "execution_count": 33,
   "metadata": {},
   "outputs": [],
   "source": [
    "sf_data['City'] = \"San Francisco\""
   ]
  },
  {
   "cell_type": "code",
   "execution_count": 37,
   "metadata": {},
   "outputs": [],
   "source": [
    "sf_data.drop('RegionName', axis=1, inplace=True)"
   ]
  },
  {
   "cell_type": "code",
   "execution_count": 38,
   "metadata": {},
   "outputs": [
    {
     "data": {
      "text/plain": [
       "Neighborhood      0\n",
       "City              0\n",
       "Zillow Median     2\n",
       "MedianRent       52\n",
       "Average Rent     39\n",
       "geometry          0\n",
       "dtype: int64"
      ]
     },
     "execution_count": 38,
     "metadata": {},
     "output_type": "execute_result"
    }
   ],
   "source": [
    "sf_data.isnull().sum()"
   ]
  },
  {
   "cell_type": "code",
   "execution_count": 39,
   "metadata": {},
   "outputs": [
    {
     "data": {
      "text/html": [
       "<div>\n",
       "<style scoped>\n",
       "    .dataframe tbody tr th:only-of-type {\n",
       "        vertical-align: middle;\n",
       "    }\n",
       "\n",
       "    .dataframe tbody tr th {\n",
       "        vertical-align: top;\n",
       "    }\n",
       "\n",
       "    .dataframe thead th {\n",
       "        text-align: right;\n",
       "    }\n",
       "</style>\n",
       "<table border=\"1\" class=\"dataframe\">\n",
       "  <thead>\n",
       "    <tr style=\"text-align: right;\">\n",
       "      <th></th>\n",
       "      <th>Neighborhood</th>\n",
       "      <th>City</th>\n",
       "      <th>Zillow Median</th>\n",
       "      <th>MedianRent</th>\n",
       "      <th>Average Rent</th>\n",
       "      <th>geometry</th>\n",
       "    </tr>\n",
       "  </thead>\n",
       "  <tbody>\n",
       "    <tr>\n",
       "      <td>104</td>\n",
       "      <td>Treasure Island</td>\n",
       "      <td>San Francisco</td>\n",
       "      <td>NaN</td>\n",
       "      <td>NaN</td>\n",
       "      <td>2616.0</td>\n",
       "      <td>(POLYGON ((-122.3717651799999 37.8157107940000...</td>\n",
       "    </tr>\n",
       "    <tr>\n",
       "      <td>113</td>\n",
       "      <td>Yerba Buena Island</td>\n",
       "      <td>San Francisco</td>\n",
       "      <td>NaN</td>\n",
       "      <td>NaN</td>\n",
       "      <td>4183.0</td>\n",
       "      <td>(POLYGON ((-122.3710543569999 37.8159500720000...</td>\n",
       "    </tr>\n",
       "  </tbody>\n",
       "</table>\n",
       "</div>"
      ],
      "text/plain": [
       "           Neighborhood           City  Zillow Median  MedianRent  \\\n",
       "104     Treasure Island  San Francisco            NaN         NaN   \n",
       "113  Yerba Buena Island  San Francisco            NaN         NaN   \n",
       "\n",
       "     Average Rent                                           geometry  \n",
       "104        2616.0  (POLYGON ((-122.3717651799999 37.8157107940000...  \n",
       "113        4183.0  (POLYGON ((-122.3710543569999 37.8159500720000...  "
      ]
     },
     "execution_count": 39,
     "metadata": {},
     "output_type": "execute_result"
    }
   ],
   "source": [
    "sf_data[sf_data['Zillow Median'].isnull() == True]"
   ]
  },
  {
   "cell_type": "markdown",
   "metadata": {},
   "source": [
    "### Decide which rent value to use for rent analysis\n",
    "Spoiler: I'm going to use the Zillow Median (ZRI)"
   ]
  },
  {
   "cell_type": "code",
   "execution_count": 51,
   "metadata": {},
   "outputs": [],
   "source": [
    "nyc_rent = nyc_data[['Name','Zillow Median']]\n",
    "sf_rent = sf_data[['Neighborhood', 'Zillow Median']]"
   ]
  },
  {
   "cell_type": "markdown",
   "metadata": {},
   "source": [
    "## Plotting Zillow Median\n",
    "I'm going to plot both data sets to see if they are normally distributed."
   ]
  },
  {
   "cell_type": "code",
   "execution_count": 22,
   "metadata": {},
   "outputs": [
    {
     "data": {
      "text/plain": [
       "<matplotlib.legend.Legend at 0x1f7ff13b860>"
      ]
     },
     "execution_count": 22,
     "metadata": {},
     "output_type": "execute_result"
    },
    {
     "data": {
      "image/png": "[encoded data removed]",
      "text/plain": [
       "<Figure size 432x288 with 1 Axes>"
      ]
     },
     "metadata": {
      "needs_background": "light"
     },
     "output_type": "display_data"
    }
   ],
   "source": [
    "a = nyc_data['Zillow Median'].dropna()\n",
    "b = sf_data['Zillow Median'].dropna()\n",
    "\n",
    "ax = sns.distplot(a, label=\"Manhattan\")\n",
    "ax = sns.distplot(b, label=\"San Francisco\")\n",
    "ax.legend()"
   ]
  },
  {
   "cell_type": "markdown",
   "metadata": {},
   "source": [
    "Visually, it appears the Manhattan distributions resembles a normal distribution more than San Francisco. I'll use the `.skew()` method to caluclate the skewness of each data set."
   ]
  },
  {
   "cell_type": "code",
   "execution_count": 31,
   "metadata": {},
   "outputs": [
    {
     "data": {
      "text/plain": [
       "Zillow Median    1.056056\n",
       "MedianRent      -0.994101\n",
       "Average Rent    -0.826206\n",
       "dtype: float64"
      ]
     },
     "execution_count": 31,
     "metadata": {},
     "output_type": "execute_result"
    }
   ],
   "source": [
    "nyc_data[['Zillow Median','MedianRent','Average Rent']].skew(axis=0)"
   ]
  },
  {
   "cell_type": "code",
   "execution_count": 32,
   "metadata": {},
   "outputs": [
    {
     "data": {
      "text/plain": [
       "Zillow Median    0.470107\n",
       "MedianRent      -0.110711\n",
       "Average Rent     0.343645\n",
       "dtype: float64"
      ]
     },
     "execution_count": 32,
     "metadata": {},
     "output_type": "execute_result"
    }
   ],
   "source": [
    "sf_data[['Zillow Median','MedianRent','Average Rent']].skew(axis=0)"
   ]
  },
  {
   "cell_type": "markdown",
   "metadata": {},
   "source": []
  }
 ],
 "metadata": {
  "kernelspec": {
   "display_name": "Python [conda env:default] *",
   "language": "python",
   "name": "conda-env-default-py"
  },
  "language_info": {
   "codemirror_mode": {
    "name": "ipython",
    "version": 3
   },
   "file_extension": ".py",
   "mimetype": "text/x-python",
   "name": "python",
   "nbconvert_exporter": "python",
   "pygments_lexer": "ipython3",
   "version": "3.6.9"
  }
 },
 "nbformat": 4,
 "nbformat_minor": 2
}
