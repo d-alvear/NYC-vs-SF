{
 "cells": [
  {
   "cell_type": "markdown",
   "metadata": {},
   "source": [
    "## Battle of the Cities: Data Cleaning"
   ]
  },
  {
   "cell_type": "code",
   "execution_count": 87,
   "metadata": {},
   "outputs": [
    {
     "data": {
      "text/html": [
       "<div>\n",
       "<style scoped>\n",
       "    .dataframe tbody tr th:only-of-type {\n",
       "        vertical-align: middle;\n",
       "    }\n",
       "\n",
       "    .dataframe tbody tr th {\n",
       "        vertical-align: top;\n",
       "    }\n",
       "\n",
       "    .dataframe thead th {\n",
       "        text-align: right;\n",
       "    }\n",
       "</style>\n",
       "<table border=\"1\" class=\"dataframe\">\n",
       "  <thead>\n",
       "    <tr style=\"text-align: right;\">\n",
       "      <th></th>\n",
       "      <th>RegionID</th>\n",
       "      <th>RegionName</th>\n",
       "      <th>City</th>\n",
       "      <th>State</th>\n",
       "      <th>Metro</th>\n",
       "      <th>CountyName</th>\n",
       "      <th>SizeRank</th>\n",
       "      <th>2010-09</th>\n",
       "      <th>2010-10</th>\n",
       "      <th>2010-11</th>\n",
       "      <th>...</th>\n",
       "      <th>2018-12</th>\n",
       "      <th>2019-01</th>\n",
       "      <th>2019-02</th>\n",
       "      <th>2019-03</th>\n",
       "      <th>2019-04</th>\n",
       "      <th>2019-05</th>\n",
       "      <th>2019-06</th>\n",
       "      <th>2019-07</th>\n",
       "      <th>2019-08</th>\n",
       "      <th>2019-09</th>\n",
       "    </tr>\n",
       "  </thead>\n",
       "  <tbody>\n",
       "    <tr>\n",
       "      <td>0</td>\n",
       "      <td>274772</td>\n",
       "      <td>Northeast Dallas</td>\n",
       "      <td>Dallas</td>\n",
       "      <td>TX</td>\n",
       "      <td>Dallas-Fort Worth-Arlington</td>\n",
       "      <td>Dallas County</td>\n",
       "      <td>1</td>\n",
       "      <td>1074.0</td>\n",
       "      <td>1080.0</td>\n",
       "      <td>1093.0</td>\n",
       "      <td>...</td>\n",
       "      <td>1367.0</td>\n",
       "      <td>1368.0</td>\n",
       "      <td>1364.0</td>\n",
       "      <td>1360.0</td>\n",
       "      <td>1362.0</td>\n",
       "      <td>1367.0</td>\n",
       "      <td>1371.0</td>\n",
       "      <td>1373.0</td>\n",
       "      <td>1375.0</td>\n",
       "      <td>1378.0</td>\n",
       "    </tr>\n",
       "    <tr>\n",
       "      <td>1</td>\n",
       "      <td>112345</td>\n",
       "      <td>Maryvale</td>\n",
       "      <td>Phoenix</td>\n",
       "      <td>AZ</td>\n",
       "      <td>Phoenix-Mesa-Scottsdale</td>\n",
       "      <td>Maricopa County</td>\n",
       "      <td>2</td>\n",
       "      <td>896.0</td>\n",
       "      <td>915.0</td>\n",
       "      <td>913.0</td>\n",
       "      <td>...</td>\n",
       "      <td>1167.0</td>\n",
       "      <td>1169.0</td>\n",
       "      <td>1167.0</td>\n",
       "      <td>1164.0</td>\n",
       "      <td>1166.0</td>\n",
       "      <td>1170.0</td>\n",
       "      <td>1178.0</td>\n",
       "      <td>1189.0</td>\n",
       "      <td>1200.0</td>\n",
       "      <td>1207.0</td>\n",
       "    </tr>\n",
       "  </tbody>\n",
       "</table>\n",
       "<p>2 rows × 116 columns</p>\n",
       "</div>"
      ],
      "text/plain": [
       "   RegionID        RegionName     City State                        Metro  \\\n",
       "0    274772  Northeast Dallas   Dallas    TX  Dallas-Fort Worth-Arlington   \n",
       "1    112345          Maryvale  Phoenix    AZ      Phoenix-Mesa-Scottsdale   \n",
       "\n",
       "        CountyName  SizeRank  2010-09  2010-10  2010-11  ...  2018-12  \\\n",
       "0    Dallas County         1   1074.0   1080.0   1093.0  ...   1367.0   \n",
       "1  Maricopa County         2    896.0    915.0    913.0  ...   1167.0   \n",
       "\n",
       "   2019-01  2019-02  2019-03  2019-04  2019-05  2019-06  2019-07  2019-08  \\\n",
       "0   1368.0   1364.0   1360.0   1362.0   1367.0   1371.0   1373.0   1375.0   \n",
       "1   1169.0   1167.0   1164.0   1166.0   1170.0   1178.0   1189.0   1200.0   \n",
       "\n",
       "   2019-09  \n",
       "0   1378.0  \n",
       "1   1207.0  \n",
       "\n",
       "[2 rows x 116 columns]"
      ]
     },
     "execution_count": 87,
     "metadata": {},
     "output_type": "execute_result"
    }
   ],
   "source": [
    "import pandas as pd\n",
    "import numpy as np\n",
    "\n",
    "rent_data = pd.read_csv('Neighborhood_Zri_AllHomesPlusMultifamily.csv')\n",
    "rent_data.head(2)"
   ]
  },
  {
   "cell_type": "markdown",
   "metadata": {},
   "source": [
    "## Dropping Data\n",
    "This data set contains rent values for all of the US. I only want data for NYC and SF so I'll filter the data set. Also, for New York, I only want data for Manhattan, so I will need to filter for that as well."
   ]
  },
  {
   "cell_type": "code",
   "execution_count": 88,
   "metadata": {},
   "outputs": [],
   "source": [
    "rent_data = rent_data[(rent_data[\"City\"] == \"New York\") | (rent_data[\"City\"] == \"San Francisco\")]"
   ]
  },
  {
   "cell_type": "code",
   "execution_count": 89,
   "metadata": {},
   "outputs": [
    {
     "data": {
      "text/plain": [
       "San Francisco County    75\n",
       "Queens County           66\n",
       "Richmond County         58\n",
       "Kings County            52\n",
       "Bronx County            44\n",
       "New York County         33\n",
       "Name: CountyName, dtype: int64"
      ]
     },
     "execution_count": 89,
     "metadata": {},
     "output_type": "execute_result"
    }
   ],
   "source": [
    "rent_data[\"CountyName\"].value_counts()"
   ]
  },
  {
   "cell_type": "code",
   "execution_count": 90,
   "metadata": {},
   "outputs": [
    {
     "data": {
      "text/plain": [
       "San Francisco County    75\n",
       "New York County         33\n",
       "Name: CountyName, dtype: int64"
      ]
     },
     "execution_count": 90,
     "metadata": {},
     "output_type": "execute_result"
    }
   ],
   "source": [
    "rent_data = rent_data[(rent_data[\"CountyName\"] == \"New York County\") | (rent_data[\"CountyName\"] == \"San Francisco County\")]\n",
    "rent_data[\"CountyName\"].value_counts()"
   ]
  },
  {
   "cell_type": "markdown",
   "metadata": {},
   "source": [
    "Now that I have the relevant data for the cities I'm interested in, I'll drop unecessary columns."
   ]
  },
  {
   "cell_type": "code",
   "execution_count": 91,
   "metadata": {
    "scrolled": true
   },
   "outputs": [
    {
     "data": {
      "text/plain": [
       "Index(['Neighborhood', 'City', '2010-09', '2010-10', '2010-11', '2010-12',\n",
       "       '2011-01', '2011-02', '2011-03', '2011-04',\n",
       "       ...\n",
       "       '2018-12', '2019-01', '2019-02', '2019-03', '2019-04', '2019-05',\n",
       "       '2019-06', '2019-07', '2019-08', '2019-09'],\n",
       "      dtype='object', length=111)"
      ]
     },
     "execution_count": 91,
     "metadata": {},
     "output_type": "execute_result"
    }
   ],
   "source": [
    "rent_data.drop([\"RegionID\", \"State\", \"Metro\", \"CountyName\", \"SizeRank\"], axis=1, inplace=True)\n",
    "\n",
    "#rename columns\n",
    "rent_data.rename(columns={\"RegionName\":\"Neighborhood\"}, inplace=True)\n",
    "\n",
    "rent_data.columns"
   ]
  },
  {
   "cell_type": "code",
   "execution_count": 92,
   "metadata": {},
   "outputs": [],
   "source": [
    "rent_data.set_index('Neighborhood', inplace=True)"
   ]
  },
  {
   "cell_type": "markdown",
   "metadata": {},
   "source": [
    "The data for 2019 is incomplete at this time. Also, I'm only concerned with recent rent data, so I'll drop the data that spans from 2010 through 2017."
   ]
  },
  {
   "cell_type": "code",
   "execution_count": 93,
   "metadata": {},
   "outputs": [
    {
     "data": {
      "text/plain": [
       "Index(['City', '2018-01', '2018-02', '2018-03', '2018-04', '2018-05',\n",
       "       '2018-06', '2018-07', '2018-08', '2018-09', '2018-10', '2018-11',\n",
       "       '2018-12', '2019-01', '2019-02', '2019-03', '2019-04', '2019-05',\n",
       "       '2019-06', '2019-07', '2019-08', '2019-09'],\n",
       "      dtype='object')"
      ]
     },
     "execution_count": 93,
     "metadata": {},
     "output_type": "execute_result"
    }
   ],
   "source": [
    "rent_data.drop(rent_data.columns.to_series()[\"2010-09\":\"2017-12\"], axis=1, inplace=True)\n",
    "\n",
    "rent_data.columns"
   ]
  },
  {
   "cell_type": "markdown",
   "metadata": {},
   "source": [
    "## Handling Missing Values"
   ]
  },
  {
   "cell_type": "code",
   "execution_count": 118,
   "metadata": {
    "scrolled": true
   },
   "outputs": [
    {
     "data": {
      "text/plain": [
       "City       0\n",
       "2018-01    8\n",
       "2018-02    7\n",
       "2018-03    7\n",
       "2018-04    7\n",
       "2018-05    8\n",
       "2018-06    7\n",
       "2018-07    6\n",
       "2018-08    7\n",
       "2018-09    6\n",
       "2018-10    5\n",
       "2018-11    5\n",
       "2018-12    5\n",
       "2019-01    7\n",
       "2019-02    9\n",
       "2019-03    7\n",
       "2019-04    7\n",
       "2019-05    7\n",
       "2019-06    7\n",
       "2019-07    7\n",
       "2019-08    7\n",
       "2019-09    7\n",
       "dtype: int64"
      ]
     },
     "execution_count": 118,
     "metadata": {},
     "output_type": "execute_result"
    }
   ],
   "source": [
    "rent_data.isnull().sum()"
   ]
  },
  {
   "cell_type": "markdown",
   "metadata": {},
   "source": [
    "It looks like there are some missing values in each column. However, transposing the data will show if there are neighborhoods with a high volume of missing values."
   ]
  },
  {
   "cell_type": "code",
   "execution_count": 111,
   "metadata": {},
   "outputs": [
    {
     "data": {
      "text/plain": [
       "Neighborhood\n",
       "Balboa Terrace          21\n",
       "Mount Davidson Manor    21\n",
       "Forest Hill             21\n",
       "Westwood Highlands      18\n",
       "North Waterfront        15\n",
       "                        ..\n",
       "NoHo                     0\n",
       "Garment District         0\n",
       "Haight                   0\n",
       "Duboce Triangle          0\n",
       "Upper West Side          0\n",
       "Length: 108, dtype: int64"
      ]
     },
     "execution_count": 111,
     "metadata": {},
     "output_type": "execute_result"
    }
   ],
   "source": [
    "transposed = rent_data.transpose()\n",
    "\n",
    "transposed.isnull().sum().sort_values(ascending=False)"
   ]
  },
  {
   "cell_type": "markdown",
   "metadata": {},
   "source": [
    "Considering there are 21 records for each neighborhood, I'll drop neighborhoods that are missing more than half of their data since I want a relatively accurate representation of rents in each area."
   ]
  },
  {
   "cell_type": "code",
   "execution_count": 119,
   "metadata": {},
   "outputs": [
    {
     "data": {
      "text/plain": [
       "City       0\n",
       "2018-01    1\n",
       "2018-02    0\n",
       "2018-03    0\n",
       "2018-04    0\n",
       "2018-05    1\n",
       "2018-06    1\n",
       "2018-07    0\n",
       "2018-08    1\n",
       "2018-09    0\n",
       "2018-10    0\n",
       "2018-11    0\n",
       "2018-12    0\n",
       "2019-01    1\n",
       "2019-02    3\n",
       "2019-03    2\n",
       "2019-04    2\n",
       "2019-05    2\n",
       "2019-06    2\n",
       "2019-07    2\n",
       "2019-08    2\n",
       "2019-09    2\n",
       "dtype: int64"
      ]
     },
     "execution_count": 119,
     "metadata": {},
     "output_type": "execute_result"
    }
   ],
   "source": [
    "rent_data.dropna(thresh=11, axis=0, inplace=True)\n",
    "rent_data.isnull().sum()"
   ]
  },
  {
   "cell_type": "code",
   "execution_count": 130,
   "metadata": {},
   "outputs": [],
   "source": [
    "rent_data.to_csv('rent_data_clean.csv')"
   ]
  }
 ],
 "metadata": {
  "kernelspec": {
   "display_name": "Python 3",
   "language": "python",
   "name": "python3"
  },
  "language_info": {
   "codemirror_mode": {
    "name": "ipython",
    "version": 3
   },
   "file_extension": ".py",
   "mimetype": "text/x-python",
   "name": "python",
   "nbconvert_exporter": "python",
   "pygments_lexer": "ipython3",
   "version": "3.7.4"
  }
 },
 "nbformat": 4,
 "nbformat_minor": 2
}
