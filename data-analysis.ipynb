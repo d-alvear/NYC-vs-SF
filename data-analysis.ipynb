{
 "cells": [
  {
   "cell_type": "markdown",
   "metadata": {},
   "source": [
    "# Battle of the Cities: New York City vs. San Francisco\n",
    "## Exploratory Data Analysis Workbook\n",
    "This workbook contains the exploratory data analysis part of this project."
   ]
  },
  {
   "cell_type": "code",
   "execution_count": 1,
   "metadata": {},
   "outputs": [],
   "source": [
    "import pandas as pd\n",
    "import numpy as np\n",
    "import matplotlib.pyplot as plt\n",
    "%matplotlib inline\n",
    "\n",
    "#importing data\n",
    "nyc_rent = pd.read_csv('nyc_rent.csv')\n",
    "sf_rent = pd.read_csv('sf_rent.csv')"
   ]
  },
  {
   "cell_type": "markdown",
   "metadata": {},
   "source": []
  },
  {
   "cell_type": "code",
   "execution_count": 44,
   "metadata": {},
   "outputs": [
    {
     "data": {
      "text/html": [
       "<div>\n",
       "<style scoped>\n",
       "    .dataframe tbody tr th:only-of-type {\n",
       "        vertical-align: middle;\n",
       "    }\n",
       "\n",
       "    .dataframe tbody tr th {\n",
       "        vertical-align: top;\n",
       "    }\n",
       "\n",
       "    .dataframe thead th {\n",
       "        text-align: right;\n",
       "    }\n",
       "</style>\n",
       "<table border=\"1\" class=\"dataframe\">\n",
       "  <thead>\n",
       "    <tr style=\"text-align: right;\">\n",
       "      <th></th>\n",
       "      <th>RegionName</th>\n",
       "      <th>City</th>\n",
       "      <th>State</th>\n",
       "      <th>2011-01</th>\n",
       "      <th>2011-02</th>\n",
       "      <th>2011-03</th>\n",
       "      <th>2011-04</th>\n",
       "      <th>2011-05</th>\n",
       "      <th>2011-06</th>\n",
       "      <th>2011-07</th>\n",
       "      <th>...</th>\n",
       "      <th>2019-01</th>\n",
       "      <th>2019-02</th>\n",
       "      <th>2019-03</th>\n",
       "      <th>2019-04</th>\n",
       "      <th>2019-05</th>\n",
       "      <th>2019-06</th>\n",
       "      <th>2019-07</th>\n",
       "      <th>2019-08</th>\n",
       "      <th>2019-09</th>\n",
       "      <th>Med_2019</th>\n",
       "    </tr>\n",
       "  </thead>\n",
       "  <tbody>\n",
       "    <tr>\n",
       "      <td>0</td>\n",
       "      <td>Upper West Side</td>\n",
       "      <td>New York</td>\n",
       "      <td>NY</td>\n",
       "      <td>2650.000000</td>\n",
       "      <td>2595.0</td>\n",
       "      <td>2700.0</td>\n",
       "      <td>2800.0</td>\n",
       "      <td>2850.0</td>\n",
       "      <td>2750.0</td>\n",
       "      <td>2800.0</td>\n",
       "      <td>...</td>\n",
       "      <td>3295.0</td>\n",
       "      <td>3251.0</td>\n",
       "      <td>3300.0</td>\n",
       "      <td>3350.0</td>\n",
       "      <td>3300.0</td>\n",
       "      <td>3300.0</td>\n",
       "      <td>3275.0</td>\n",
       "      <td>3300.0</td>\n",
       "      <td>3300.0</td>\n",
       "      <td>3200.0</td>\n",
       "    </tr>\n",
       "    <tr>\n",
       "      <td>1</td>\n",
       "      <td>Upper East Side</td>\n",
       "      <td>New York</td>\n",
       "      <td>NY</td>\n",
       "      <td>2150.000000</td>\n",
       "      <td>2200.0</td>\n",
       "      <td>2300.0</td>\n",
       "      <td>2450.0</td>\n",
       "      <td>2450.0</td>\n",
       "      <td>2400.0</td>\n",
       "      <td>2400.0</td>\n",
       "      <td>...</td>\n",
       "      <td>2750.0</td>\n",
       "      <td>2775.0</td>\n",
       "      <td>2725.0</td>\n",
       "      <td>2725.0</td>\n",
       "      <td>2700.0</td>\n",
       "      <td>2750.0</td>\n",
       "      <td>2700.0</td>\n",
       "      <td>2695.0</td>\n",
       "      <td>2695.0</td>\n",
       "      <td>3200.0</td>\n",
       "    </tr>\n",
       "    <tr>\n",
       "      <td>2</td>\n",
       "      <td>Washington Heights</td>\n",
       "      <td>New York</td>\n",
       "      <td>NY</td>\n",
       "      <td>1295.000000</td>\n",
       "      <td>1275.0</td>\n",
       "      <td>1290.0</td>\n",
       "      <td>1300.0</td>\n",
       "      <td>1300.0</td>\n",
       "      <td>1300.0</td>\n",
       "      <td>1300.0</td>\n",
       "      <td>...</td>\n",
       "      <td>1700.0</td>\n",
       "      <td>1700.0</td>\n",
       "      <td>1737.0</td>\n",
       "      <td>1700.0</td>\n",
       "      <td>1750.0</td>\n",
       "      <td>1750.0</td>\n",
       "      <td>1750.0</td>\n",
       "      <td>1750.0</td>\n",
       "      <td>1795.0</td>\n",
       "      <td>3200.0</td>\n",
       "    </tr>\n",
       "    <tr>\n",
       "      <td>3</td>\n",
       "      <td>Harlem</td>\n",
       "      <td>New York</td>\n",
       "      <td>NY</td>\n",
       "      <td>1550.000000</td>\n",
       "      <td>1567.5</td>\n",
       "      <td>1450.0</td>\n",
       "      <td>1435.0</td>\n",
       "      <td>1445.0</td>\n",
       "      <td>1475.0</td>\n",
       "      <td>1495.0</td>\n",
       "      <td>...</td>\n",
       "      <td>1999.0</td>\n",
       "      <td>1975.0</td>\n",
       "      <td>1973.0</td>\n",
       "      <td>2000.0</td>\n",
       "      <td>2165.0</td>\n",
       "      <td>2150.0</td>\n",
       "      <td>2100.0</td>\n",
       "      <td>2113.0</td>\n",
       "      <td>2150.0</td>\n",
       "      <td>3200.0</td>\n",
       "    </tr>\n",
       "    <tr>\n",
       "      <td>4</td>\n",
       "      <td>East Harlem</td>\n",
       "      <td>New York</td>\n",
       "      <td>NY</td>\n",
       "      <td>2209.528846</td>\n",
       "      <td>1690.0</td>\n",
       "      <td>1750.0</td>\n",
       "      <td>1797.5</td>\n",
       "      <td>1950.0</td>\n",
       "      <td>1800.0</td>\n",
       "      <td>1797.5</td>\n",
       "      <td>...</td>\n",
       "      <td>2250.0</td>\n",
       "      <td>2400.0</td>\n",
       "      <td>2450.0</td>\n",
       "      <td>2450.0</td>\n",
       "      <td>2450.0</td>\n",
       "      <td>2400.0</td>\n",
       "      <td>2500.0</td>\n",
       "      <td>2500.0</td>\n",
       "      <td>2500.0</td>\n",
       "      <td>3200.0</td>\n",
       "    </tr>\n",
       "  </tbody>\n",
       "</table>\n",
       "<p>5 rows × 109 columns</p>\n",
       "</div>"
      ],
      "text/plain": [
       "           RegionName      City State      2011-01  2011-02  2011-03  2011-04  \\\n",
       "0     Upper West Side  New York    NY  2650.000000   2595.0   2700.0   2800.0   \n",
       "1     Upper East Side  New York    NY  2150.000000   2200.0   2300.0   2450.0   \n",
       "2  Washington Heights  New York    NY  1295.000000   1275.0   1290.0   1300.0   \n",
       "3              Harlem  New York    NY  1550.000000   1567.5   1450.0   1435.0   \n",
       "4         East Harlem  New York    NY  2209.528846   1690.0   1750.0   1797.5   \n",
       "\n",
       "   2011-05  2011-06  2011-07  ...  2019-01  2019-02  2019-03  2019-04  \\\n",
       "0   2850.0   2750.0   2800.0  ...   3295.0   3251.0   3300.0   3350.0   \n",
       "1   2450.0   2400.0   2400.0  ...   2750.0   2775.0   2725.0   2725.0   \n",
       "2   1300.0   1300.0   1300.0  ...   1700.0   1700.0   1737.0   1700.0   \n",
       "3   1445.0   1475.0   1495.0  ...   1999.0   1975.0   1973.0   2000.0   \n",
       "4   1950.0   1800.0   1797.5  ...   2250.0   2400.0   2450.0   2450.0   \n",
       "\n",
       "   2019-05  2019-06  2019-07  2019-08  2019-09  Med_2019  \n",
       "0   3300.0   3300.0   3275.0   3300.0   3300.0    3200.0  \n",
       "1   2700.0   2750.0   2700.0   2695.0   2695.0    3200.0  \n",
       "2   1750.0   1750.0   1750.0   1750.0   1795.0    3200.0  \n",
       "3   2165.0   2150.0   2100.0   2113.0   2150.0    3200.0  \n",
       "4   2450.0   2400.0   2500.0   2500.0   2500.0    3200.0  \n",
       "\n",
       "[5 rows x 109 columns]"
      ]
     },
     "execution_count": 44,
     "metadata": {},
     "output_type": "execute_result"
    }
   ],
   "source": [
    "nyc_rent.head()"
   ]
  },
  {
   "cell_type": "code",
   "execution_count": 69,
   "metadata": {},
   "outputs": [
    {
     "data": {
      "text/plain": [
       "(10, 109)"
      ]
     },
     "execution_count": 69,
     "metadata": {},
     "output_type": "execute_result"
    }
   ],
   "source": [
    "sf_rent.shape"
   ]
  },
  {
   "cell_type": "code",
   "execution_count": 66,
   "metadata": {},
   "outputs": [],
   "source": [
    "for row in nyc_rent.iterrows():\n",
    "    nyc_rent[\"Med_2019\"] = nyc_rent.median(axis = 1)\n",
    "    \n",
    "for row in sf_rent.iterrows():\n",
    "    sf_rent[\"Med_2019\"] = sf_rent.median(axis = 1)"
   ]
  },
  {
   "cell_type": "code",
   "execution_count": 72,
   "metadata": {},
   "outputs": [
    {
     "data": {
      "image/png": "[encoded data removed]",
      "text/plain": [
       "<Figure size 1080x576 with 2 Axes>"
      ]
     },
     "metadata": {
      "needs_background": "light"
     },
     "output_type": "display_data"
    }
   ],
   "source": [
    "fig, ax = plt.subplots(nrows=1, ncols=2, figsize=(15,8))\n",
    "\n",
    "ax1 = nyc_rent.plot.bar(x='RegionName',y='Med_2019', ax=ax[0], legend=False)\n",
    "ax1.set_title(\"\")\n",
    "ax1.set_ylim(0,5000)\n",
    "ax1.set_ylabel(\"Rent in USD\")\n",
    "ax1.grid()\n",
    "\n",
    "ax2 = sf_rent.plot.bar(x='RegionName', y='Med_2019', ax=ax[1], legend=False)\n",
    "ax2.set_title(\"\")\n",
    "ax2.grid()"
   ]
  }
 ],
 "metadata": {
  "kernelspec": {
   "display_name": "Python 3",
   "language": "python",
   "name": "python3"
  },
  "language_info": {
   "codemirror_mode": {
    "name": "ipython",
    "version": 3
   },
   "file_extension": ".py",
   "mimetype": "text/x-python",
   "name": "python",
   "nbconvert_exporter": "python",
   "pygments_lexer": "ipython3",
   "version": "3.7.4"
  }
 },
 "nbformat": 4,
 "nbformat_minor": 2
}
