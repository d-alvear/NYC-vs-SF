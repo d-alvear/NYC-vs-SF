{
 "cells": [
  {
   "cell_type": "markdown",
   "metadata": {},
   "source": [
    "# Battle of the Cities: Data Visualization\n",
    "### Goals:\n",
    "\n",
    "* ~~__bar chart of rent prices by neighborhood for each city__~~\n",
    "* ~~__find median rent for 2018 and 2018 per neighborhood per city__~~ only concerned with current prices.\n",
    "* ~~is rent price above national average? (folium)~~\n",
    "    * looking at two of the most expensive cities in the country, this may not give much insight\n",
    "    * overall average? normalize data to see how it deviates from the mean\n",
    "* is rent prive above city average? (folium)(City_Rank)\n",
    "    * ex: \"This neighorhood is affordable relative to other Manhattan neighborhoods.\n",
    "\n",
    "* label neighborhoods: Affordable, Average, Expensive within city and within whole dataset\n",
    "    * ex: General Rank = Expensive, City Rank = Affordable\n",
    "    * \"This neighborhood is expensive relative to both San Francisco and Manhattan but affordable for Manhattan.\n",
    "* box plots"
   ]
  },
  {
   "cell_type": "code",
   "execution_count": 1,
   "metadata": {},
   "outputs": [],
   "source": [
    "import pandas as pd\n",
    "import numpy as np\n",
    "import matplotlib.pyplot as plt\n",
    "%matplotlib inline\n",
    "\n",
    "import json\n",
    "import folium\n",
    "from folium import plugins\n",
    "import geopandas as gpd"
   ]
  },
  {
   "cell_type": "code",
   "execution_count": null,
   "metadata": {},
   "outputs": [],
   "source": [
    "#importing data\n"
   ]
  }
 ],
 "metadata": {
  "kernelspec": {
   "display_name": "Python [conda env:default] *",
   "language": "python",
   "name": "conda-env-default-py"
  },
  "language_info": {
   "codemirror_mode": {
    "name": "ipython",
    "version": 3
   },
   "file_extension": ".py",
   "mimetype": "text/x-python",
   "name": "python",
   "nbconvert_exporter": "python",
   "pygments_lexer": "ipython3",
   "version": "3.6.9"
  }
 },
 "nbformat": 4,
 "nbformat_minor": 2
}
