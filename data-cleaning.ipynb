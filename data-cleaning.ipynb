{
 "cells": [
  {
   "cell_type": "markdown",
   "metadata": {},
   "source": [
    "# Battle of the Cities: New York City vs. San Francisco\n",
    "## Data Cleaning Workbook\n",
    "This workbook contains the data cleaning part of this project."
   ]
  },
  {
   "cell_type": "code",
   "execution_count": 1,
   "metadata": {},
   "outputs": [],
   "source": [
    "import pandas as pd\n",
    "import numpy as np\n",
    "import matplotlib.pyplot as plt\n",
    "%matplotlib inline"
   ]
  },
  {
   "cell_type": "code",
   "execution_count": 2,
   "metadata": {},
   "outputs": [
    {
     "data": {
      "text/html": [
       "<div>\n",
       "<style scoped>\n",
       "    .dataframe tbody tr th:only-of-type {\n",
       "        vertical-align: middle;\n",
       "    }\n",
       "\n",
       "    .dataframe tbody tr th {\n",
       "        vertical-align: top;\n",
       "    }\n",
       "\n",
       "    .dataframe thead th {\n",
       "        text-align: right;\n",
       "    }\n",
       "</style>\n",
       "<table border=\"1\" class=\"dataframe\">\n",
       "  <thead>\n",
       "    <tr style=\"text-align: right;\">\n",
       "      <th></th>\n",
       "      <th>RegionName</th>\n",
       "      <th>City</th>\n",
       "      <th>State</th>\n",
       "      <th>Metro</th>\n",
       "      <th>CountyName</th>\n",
       "      <th>SizeRank</th>\n",
       "      <th>2010-02</th>\n",
       "      <th>2010-03</th>\n",
       "      <th>2010-04</th>\n",
       "      <th>2010-05</th>\n",
       "      <th>...</th>\n",
       "      <th>2018-12</th>\n",
       "      <th>2019-01</th>\n",
       "      <th>2019-02</th>\n",
       "      <th>2019-03</th>\n",
       "      <th>2019-04</th>\n",
       "      <th>2019-05</th>\n",
       "      <th>2019-06</th>\n",
       "      <th>2019-07</th>\n",
       "      <th>2019-08</th>\n",
       "      <th>2019-09</th>\n",
       "    </tr>\n",
       "  </thead>\n",
       "  <tbody>\n",
       "    <tr>\n",
       "      <td>0</td>\n",
       "      <td>Northeast Dallas</td>\n",
       "      <td>Dallas</td>\n",
       "      <td>TX</td>\n",
       "      <td>Dallas-Fort Worth-Arlington</td>\n",
       "      <td>Dallas County</td>\n",
       "      <td>1</td>\n",
       "      <td>NaN</td>\n",
       "      <td>NaN</td>\n",
       "      <td>NaN</td>\n",
       "      <td>NaN</td>\n",
       "      <td>...</td>\n",
       "      <td>1050.0</td>\n",
       "      <td>1075.0</td>\n",
       "      <td>1053.0</td>\n",
       "      <td>1050.0</td>\n",
       "      <td>1157.0</td>\n",
       "      <td>1175.0</td>\n",
       "      <td>1240.0</td>\n",
       "      <td>1100.0</td>\n",
       "      <td>1094.0</td>\n",
       "      <td>1150.0</td>\n",
       "    </tr>\n",
       "    <tr>\n",
       "      <td>1</td>\n",
       "      <td>Maryvale</td>\n",
       "      <td>Phoenix</td>\n",
       "      <td>AZ</td>\n",
       "      <td>Phoenix-Mesa-Scottsdale</td>\n",
       "      <td>Maricopa County</td>\n",
       "      <td>2</td>\n",
       "      <td>NaN</td>\n",
       "      <td>NaN</td>\n",
       "      <td>NaN</td>\n",
       "      <td>NaN</td>\n",
       "      <td>...</td>\n",
       "      <td>705.0</td>\n",
       "      <td>724.0</td>\n",
       "      <td>755.0</td>\n",
       "      <td>767.5</td>\n",
       "      <td>795.0</td>\n",
       "      <td>795.0</td>\n",
       "      <td>867.0</td>\n",
       "      <td>860.0</td>\n",
       "      <td>825.0</td>\n",
       "      <td>840.0</td>\n",
       "    </tr>\n",
       "    <tr>\n",
       "      <td>2</td>\n",
       "      <td>Paradise</td>\n",
       "      <td>Las Vegas</td>\n",
       "      <td>NV</td>\n",
       "      <td>Las Vegas-Henderson-Paradise</td>\n",
       "      <td>Clark County</td>\n",
       "      <td>3</td>\n",
       "      <td>NaN</td>\n",
       "      <td>NaN</td>\n",
       "      <td>NaN</td>\n",
       "      <td>NaN</td>\n",
       "      <td>...</td>\n",
       "      <td>950.0</td>\n",
       "      <td>983.0</td>\n",
       "      <td>927.0</td>\n",
       "      <td>933.0</td>\n",
       "      <td>921.0</td>\n",
       "      <td>896.0</td>\n",
       "      <td>930.0</td>\n",
       "      <td>950.0</td>\n",
       "      <td>1017.5</td>\n",
       "      <td>1000.0</td>\n",
       "    </tr>\n",
       "  </tbody>\n",
       "</table>\n",
       "<p>3 rows × 122 columns</p>\n",
       "</div>"
      ],
      "text/plain": [
       "         RegionName       City State                         Metro  \\\n",
       "0  Northeast Dallas     Dallas    TX   Dallas-Fort Worth-Arlington   \n",
       "1          Maryvale    Phoenix    AZ       Phoenix-Mesa-Scottsdale   \n",
       "2          Paradise  Las Vegas    NV  Las Vegas-Henderson-Paradise   \n",
       "\n",
       "        CountyName  SizeRank  2010-02  2010-03  2010-04  2010-05  ...  \\\n",
       "0    Dallas County         1      NaN      NaN      NaN      NaN  ...   \n",
       "1  Maricopa County         2      NaN      NaN      NaN      NaN  ...   \n",
       "2     Clark County         3      NaN      NaN      NaN      NaN  ...   \n",
       "\n",
       "   2018-12  2019-01  2019-02  2019-03  2019-04  2019-05  2019-06  2019-07  \\\n",
       "0   1050.0   1075.0   1053.0   1050.0   1157.0   1175.0   1240.0   1100.0   \n",
       "1    705.0    724.0    755.0    767.5    795.0    795.0    867.0    860.0   \n",
       "2    950.0    983.0    927.0    933.0    921.0    896.0    930.0    950.0   \n",
       "\n",
       "   2019-08  2019-09  \n",
       "0   1094.0   1150.0  \n",
       "1    825.0    840.0  \n",
       "2   1017.5   1000.0  \n",
       "\n",
       "[3 rows x 122 columns]"
      ]
     },
     "execution_count": 2,
     "metadata": {},
     "output_type": "execute_result"
    }
   ],
   "source": [
    "#importing rent data\n",
    "rent_data = pd.read_csv(\"Neighborhood_MedianRentalPrice_1Bedroom.csv\")\n",
    "rent_data.head(3)"
   ]
  },
  {
   "cell_type": "markdown",
   "metadata": {},
   "source": [
    "I'm only interested in data from New York and San Francisco, so I'll create two data frames for this data."
   ]
  },
  {
   "cell_type": "code",
   "execution_count": 3,
   "metadata": {},
   "outputs": [],
   "source": [
    "nyc_data = rent_data[rent_data[\"City\"] == \"New York\"]\n",
    "sf_data = rent_data[rent_data[\"City\"] == \"San Francisco\"]"
   ]
  },
  {
   "cell_type": "markdown",
   "metadata": {},
   "source": [
    "## Cleaning Manhattan Data"
   ]
  },
  {
   "cell_type": "markdown",
   "metadata": {},
   "source": [
    "New York City has five boroughs. In the interest of keeping the city analysis similar for both cities, I'll only be looking at Manhattan neighborhoods, which should fall under New York County."
   ]
  },
  {
   "cell_type": "code",
   "execution_count": 5,
   "metadata": {
    "scrolled": true
   },
   "outputs": [
    {
     "data": {
      "text/plain": [
       "RegionName    0\n",
       "City          0\n",
       "State         0\n",
       "Metro         0\n",
       "CountyName    0\n",
       "             ..\n",
       "2019-05       0\n",
       "2019-06       0\n",
       "2019-07       0\n",
       "2019-08       0\n",
       "2019-09       0\n",
       "Length: 122, dtype: int64"
      ]
     },
     "execution_count": 5,
     "metadata": {},
     "output_type": "execute_result"
    }
   ],
   "source": [
    "nyc_data = nyc_data[nyc_data[\"CountyName\"] == \"New York County\"]\n",
    "nyc_data.isnull().sum()"
   ]
  },
  {
   "cell_type": "code",
   "execution_count": 6,
   "metadata": {
    "scrolled": true
   },
   "outputs": [],
   "source": [
    "cols = [\"Metro\", \"CountyName\", \"SizeRank\", \"2010-02\", \"2010-03\", \"2010-04\", \"2010-05\", \"2010-06\",\n",
    "       \"2010-07\", \"2010-08\", \"2010-09\", \"2010-10\", \"2010-11\", \"2010-12\"]\n",
    "nyc_data = nyc_data.drop(cols, axis=1)\n",
    "\n",
    "#fill remaining data with median of row\n",
    "m = nyc_data.mean(axis=1)\n",
    "for i, col in enumerate(nyc_data):\n",
    "    nyc_data.iloc[:, i].fillna(m, inplace=True)\n",
    "#check            \n",
    "nyc_data.isnull().sum()"
   ]
  },
  {
   "cell_type": "markdown",
   "metadata": {},
   "source": [
    "The Manhattan data starts on Feb. 2012, this is tentative until I'm finished cleaning the San Francisco data. I want both data sets to cover the same length of time.\n",
    "\n",
    "## Cleaning San Francisco Data"
   ]
  },
  {
   "cell_type": "code",
   "execution_count": 8,
   "metadata": {
    "scrolled": true
   },
   "outputs": [
    {
     "data": {
      "text/plain": [
       "RegionName    0\n",
       "City          0\n",
       "State         0\n",
       "Metro         0\n",
       "CountyName    0\n",
       "             ..\n",
       "2019-05       0\n",
       "2019-06       0\n",
       "2019-07       0\n",
       "2019-08       0\n",
       "2019-09       0\n",
       "Length: 122, dtype: int64"
      ]
     },
     "execution_count": 8,
     "metadata": {},
     "output_type": "execute_result"
    }
   ],
   "source": [
    "sf_data.isnull().sum()"
   ]
  },
  {
   "cell_type": "code",
   "execution_count": 9,
   "metadata": {},
   "outputs": [
    {
     "data": {
      "text/plain": [
       "RegionName    0\n",
       "City          0\n",
       "State         0\n",
       "2011-01       0\n",
       "2011-02       0\n",
       "             ..\n",
       "2019-05       0\n",
       "2019-06       0\n",
       "2019-07       0\n",
       "2019-08       0\n",
       "2019-09       0\n",
       "Length: 108, dtype: int64"
      ]
     },
     "execution_count": 9,
     "metadata": {},
     "output_type": "execute_result"
    }
   ],
   "source": [
    "cols = [\"Metro\", \"CountyName\", \"SizeRank\", \"2010-02\", \"2010-03\", \"2010-04\", \"2010-05\", \"2010-06\",\n",
    "       \"2010-07\", \"2010-08\", \"2010-09\", \"2010-10\", \"2010-11\", \"2010-12\"]\n",
    "sf_data = sf_data.drop(cols, axis=1)\n",
    "\n",
    "#fill remaining data with median of row\n",
    "m = sf_data.mean(axis=1)\n",
    "for i, col in enumerate(sf_data):\n",
    "    sf_data.iloc[:, i].fillna(m, inplace=True)\n",
    "#check            \n",
    "sf_data.isnull().sum()"
   ]
  },
  {
   "cell_type": "markdown",
   "metadata": {},
   "source": [
    "### Export data"
   ]
  },
  {
   "cell_type": "code",
   "execution_count": 10,
   "metadata": {},
   "outputs": [],
   "source": [
    "nyc_data.to_csv('nyc_rent.csv', index=False)\n",
    "sf_data.to_csv('sf_rent.csv', index=False)"
   ]
  }
 ],
 "metadata": {
  "kernelspec": {
   "display_name": "Python 3",
   "language": "python",
   "name": "python3"
  },
  "language_info": {
   "codemirror_mode": {
    "name": "ipython",
    "version": 3
   },
   "file_extension": ".py",
   "mimetype": "text/x-python",
   "name": "python",
   "nbconvert_exporter": "python",
   "pygments_lexer": "ipython3",
   "version": "3.7.4"
  }
 },
 "nbformat": 4,
 "nbformat_minor": 2
}
