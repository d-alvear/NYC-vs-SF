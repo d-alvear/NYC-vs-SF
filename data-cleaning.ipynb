{
 "cells": [
  {
   "cell_type": "markdown",
   "metadata": {},
   "source": [
    "## Battle of the Cities: Data Cleaning"
   ]
  },
  {
   "cell_type": "code",
   "execution_count": null,
   "metadata": {},
   "outputs": [],
   "source": [
    "import pandas as pd\n",
    "import numpy as np\n",
    "\n",
    "rent_data = pd.read_csv('Neighborhood_Zri_AllHomesPlusMultifamily.csv')\n",
    "rent_data.head(2)"
   ]
  },
  {
   "cell_type": "markdown",
   "metadata": {},
   "source": [
    "## Dropping Data\n",
    "This data set contains rent values for all of the US. I only want data for NYC and SF so I'll filter the data set. Also, for New York, I only want data for Manhattan, so I will need to filter for that as well."
   ]
  },
  {
   "cell_type": "code",
   "execution_count": null,
   "metadata": {},
   "outputs": [],
   "source": [
    "rent_data = rent_data[(rent_data[\"City\"] == \"New York\") | (rent_data[\"City\"] == \"San Francisco\")]"
   ]
  },
  {
   "cell_type": "code",
   "execution_count": null,
   "metadata": {},
   "outputs": [],
   "source": [
    "rent_data[\"CountyName\"].value_counts()"
   ]
  },
  {
   "cell_type": "code",
   "execution_count": null,
   "metadata": {},
   "outputs": [],
   "source": [
    "rent_data = rent_data[(rent_data[\"CountyName\"] == \"New York County\") | (rent_data[\"CountyName\"] == \"San Francisco County\")]\n",
    "rent_data[\"CountyName\"].value_counts()"
   ]
  },
  {
   "cell_type": "markdown",
   "metadata": {},
   "source": [
    "Now that I have the relevant data for the cities I'm interested in, I'll drop unecessary columns."
   ]
  },
  {
   "cell_type": "code",
   "execution_count": null,
   "metadata": {
    "scrolled": true
   },
   "outputs": [],
   "source": [
    "rent_data.drop([\"RegionID\", \"State\", \"Metro\", \"CountyName\", \"SizeRank\"], axis=1, inplace=True)\n",
    "\n",
    "#rename columns\n",
    "rent_data.rename(columns={\"RegionName\":\"Neighborhood\"}, inplace=True)\n",
    "\n",
    "rent_data.columns"
   ]
  },
  {
   "cell_type": "code",
   "execution_count": null,
   "metadata": {},
   "outputs": [],
   "source": [
    "rent_data.set_index('Neighborhood', inplace=True)"
   ]
  },
  {
   "cell_type": "markdown",
   "metadata": {},
   "source": [
    "The data for 2019 is incomplete at this time. Also, I'm only concerned with recent rent data, so I'll drop the data that spans from 2010 through 2017."
   ]
  },
  {
   "cell_type": "code",
   "execution_count": null,
   "metadata": {},
   "outputs": [],
   "source": [
    "rent_data.drop(rent_data.columns.to_series()[\"2010-09\":\"2017-12\"], axis=1, inplace=True)\n",
    "\n",
    "rent_data.columns"
   ]
  },
  {
   "cell_type": "markdown",
   "metadata": {},
   "source": [
    "## Handling Missing Values"
   ]
  },
  {
   "cell_type": "code",
   "execution_count": null,
   "metadata": {
    "scrolled": true
   },
   "outputs": [],
   "source": [
    "rent_data.isnull().sum()"
   ]
  },
  {
   "cell_type": "markdown",
   "metadata": {},
   "source": [
    "It looks like there are some missing values in each column. However, transposing the data will show if there are neighborhoods with a high volume of missing values."
   ]
  },
  {
   "cell_type": "code",
   "execution_count": null,
   "metadata": {},
   "outputs": [],
   "source": [
    "transposed = rent_data.transpose()\n",
    "\n",
    "transposed.isnull().sum().sort_values(ascending=False)"
   ]
  },
  {
   "cell_type": "markdown",
   "metadata": {},
   "source": [
    "Considering there are 21 records for each neighborhood, I'll drop neighborhoods that are missing more than half of their data since I want a relatively accurate representation of rents in each area."
   ]
  },
  {
   "cell_type": "code",
   "execution_count": null,
   "metadata": {},
   "outputs": [],
   "source": [
    "rent_data.dropna(thresh=11, axis=0, inplace=True)\n",
    "rent_data.isnull().sum()"
   ]
  },
  {
   "cell_type": "code",
   "execution_count": null,
   "metadata": {},
   "outputs": [],
   "source": [
    "rent_data.to_csv('rent_data_clean.csv')"
   ]
  }
 ],
 "metadata": {
  "kernelspec": {
   "display_name": "Python 3",
   "language": "python",
   "name": "python3"
  },
  "language_info": {
   "codemirror_mode": {
    "name": "ipython",
    "version": 3
   },
   "file_extension": ".py",
   "mimetype": "text/x-python",
   "name": "python",
   "nbconvert_exporter": "python",
   "pygments_lexer": "ipython3",
   "version": "3.7.4"
  }
 },
 "nbformat": 4,
 "nbformat_minor": 2
}
